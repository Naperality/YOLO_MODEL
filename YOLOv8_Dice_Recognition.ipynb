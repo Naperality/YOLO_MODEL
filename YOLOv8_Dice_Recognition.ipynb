{
 "cells": [
  {
   "cell_type": "markdown",
   "metadata": {},
   "source": [
    "🎲 **YOLOv8 Dice Recognition — Google Colab Template**\n",
    "\n",
    "This notebook sets up YOLOv8 training for dice recognition using Roboflow dataset export."
   ]
  },
  {
   "cell_type": "code",
   "execution_count": null,
   "metadata": {},
   "outputs": [],
   "source": [
    "# ============================\n",
    "# 🚀 Step 1: Setup Environment\n",
    "# ============================\n",
    "!pip install ultralytics==8.0.196\n",
    "from ultralytics import YOLO\n",
    "import torch, os\n",
    "\n",
    "print(\"✅ Torch version:\", torch.__version__)\n",
    "print(\"✅ GPU available:\", torch.cuda.is_available())"
   ]
  },
  {
   "cell_type": "code",
   "execution_count": null,
   "metadata": {},
   "outputs": [],
   "source": [
    "# ============================\n",
    "# 📂 Step 2: Mount Google Drive\n",
    "# ============================\n",
    "from google.colab import drive\n",
    "drive.mount('/content/drive')\n",
    "\n",
    "PROJECT_PATH = \"/content/drive/MyDrive/YOLO_Dice\"\n",
    "os.makedirs(PROJECT_PATH, exist_ok=True)\n",
    "print(\"📂 Project path set to:\", PROJECT_PATH)"
   ]
  },
  {
   "cell_type": "code",
   "execution_count": null,
   "metadata": {},
   "outputs": [],
   "source": [
    "# ============================\n",
    "# 📦 Step 3: Prepare Dataset\n",
    "# ============================\n",
    "DATASET_ZIP = \"/content/drive/MyDrive/YOLO_Dice/dice_dataset.zip\"\n",
    "DATASET_PATH = \"/content/dice_dataset\"\n",
    "\n",
    "!unzip -qo {DATASET_ZIP} -d /content/\n",
    "print(\"✅ Dataset unzipped at:\", DATASET_PATH)\n",
    "\n",
    "!cat {DATASET_PATH}/data.yaml"
   ]
  },
  {
   "cell_type": "code",
   "execution_count": null,
   "metadata": {},
   "outputs": [],
   "source": [
    "# ============================\n",
    "# 🏋️ Step 4: Train YOLOv8 Model\n",
    "# ============================\n",
    "model = YOLO(\"yolov8n.pt\")\n",
    "\n",
    "results = model.train(\n",
    "    data=f\"{DATASET_PATH}/data.yaml\",\n",
    "    epochs=50,\n",
    "    imgsz=640,\n",
    "    batch=16,\n",
    "    project=PROJECT_PATH,\n",
    "    name=\"yolov8n_dice\",\n",
    "    device=0\n",
    ")"
   ]
  },
  {
   "cell_type": "code",
   "execution_count": null,
   "metadata": {},
   "outputs": [],
   "source": [
    "# ============================\n",
    "# 📊 Step 5: Evaluate Model\n",
    "# ============================\n",
    "metrics = model.val()\n",
    "print(\"✅ Evaluation metrics:\", metrics)"
   ]
  },
  {
   "cell_type": "code",
   "execution_count": null,
   "metadata": {},
   "outputs": [],
   "source": [
    "# ============================\n",
    "# 🔍 Step 6: Inference (Test on Sample Images)\n",
    "# ============================\n",
    "TEST_IMAGE = f\"{DATASET_PATH}/test/images/sample.jpg\"\n",
    "\n",
    "results = model.predict(\n",
    "    source=TEST_IMAGE,\n",
    "    conf=0.5,\n",
    "    show=True\n",
    ")\n",
    "\n",
    "results[0].save(filename=\"/content/dice_prediction.jpg\")"
   ]
  },
  {
   "cell_type": "code",
   "execution_count": null,
   "metadata": {},
   "outputs": [],
   "source": [
    "# ============================\n",
    "# 💾 Step 7: Export Trained Model\n",
    "# ============================\n",
    "!cp {PROJECT_PATH}/yolov8n_dice/weights/best.pt {PROJECT_PATH}/best.pt\n",
    "print(\"✅ Model saved to Google Drive:\", PROJECT_PATH + \"/best.pt\")"
   ]
  },
  {
   "cell_type": "code",
   "execution_count": null,
   "metadata": {},
   "outputs": [],
   "source": [
    "# ============================\n",
    "# 💾 Step 8: Export Trained Model in Different Format\n",
    "# ============================\n",
    "model.export(format=\"onnx\")"
   ]
  }
 ],
 "metadata": {
  "colab": {
   "name": "YOLOv8_Dice_Recognition.ipynb",
   "provenance": []
  },
  "kernelspec": {
   "display_name": "Python 3",
   "language": "python",
   "name": "python3"
  },
  "language_info": {
   "name": "python",
   "version": "3.10"
  }
 },
 "nbformat": 4,
 "nbformat_minor": 2
}
